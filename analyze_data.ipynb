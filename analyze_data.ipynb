{
 "cells": [
  {
   "cell_type": "code",
   "execution_count": null,
   "metadata": {},
   "outputs": [],
   "source": [
    "import polars as pl\n",
    "import pandas as pd\n",
    "import json \n",
    "import datetime as dt\n",
    "import plotly.express as px\n",
    "\n",
    "pd.options.plotting.backend = \"plotly\""
   ]
  },
  {
   "cell_type": "code",
   "execution_count": null,
   "metadata": {},
   "outputs": [],
   "source": [
    "# load data\n",
    "logbook_dict = json.load(open(\"logbook_4.7.0.json\"))\n",
    "df = pd.DataFrame(logbook_dict[\"data\"])"
   ]
  },
  {
   "cell_type": "code",
   "execution_count": null,
   "metadata": {},
   "outputs": [],
   "source": [
    "# format dates\n",
    "# df.with_columns(\n",
    "#    pl.col(\"Timestamp\").str.to_datetime(\"%d %B %Y\"),\n",
    "#    # pl.col(\"FactoryTimestamp\").str.to_datetime(\"%d %B %Y\"),\n",
    "# )"
   ]
  },
  {
   "cell_type": "code",
   "execution_count": null,
   "metadata": {},
   "outputs": [],
   "source": [
    "df = df.convert_dtypes()\n",
    "df[\"FactoryTimestamp\"] = pd.to_datetime(df[\"FactoryTimestamp\"])\n",
    "df[\"Timestamp\"] = pd.to_datetime(df[\"Timestamp\"])\n",
    "df = df.dropna(subset=[\"Value\"]).reset_index(drop=True)\n",
    "# df = df.set_index(\"Timestamp\")\n",
    "df.dtypes"
   ]
  },
  {
   "cell_type": "code",
   "execution_count": null,
   "metadata": {},
   "outputs": [],
   "source": [
    "# df[df.index > dt.datetime.now() - dt.timedelta(days=2)].plot(y=[\"Value\"], kind=\"line\")\n",
    "\n",
    "fig = px.line(df[df[\"Timestamp\"] > dt.datetime.now() - dt.timedelta(days=2)], x=\"Timestamp\", y=\"Value\")\n",
    "fig.update_traces(mode=\"markers+lines\", hovertemplate=None)\n",
    "fig.update_layout(hovermode=\"x\")\n",
    "\n",
    "fig.show()"
   ]
  },
  {
   "cell_type": "code",
   "execution_count": null,
   "metadata": {},
   "outputs": [],
   "source": [
    "cgm_data = json.load(open('cgm_data_4.7.0.json'))\n",
    "df = pd.DataFrame(cgm_data[\"data\"][\"graphData\"])"
   ]
  },
  {
   "cell_type": "code",
   "execution_count": null,
   "metadata": {},
   "outputs": [],
   "source": [
    "df = df.convert_dtypes()\n",
    "df[\"FactoryTimestamp\"] = pd.to_datetime(df[\"FactoryTimestamp\"])\n",
    "df[\"Timestamp\"] = pd.to_datetime(df[\"Timestamp\"])\n",
    "df = df.dropna(subset=[\"Value\"]).reset_index(drop=True)\n",
    "# df = df.set_index(\"Timestamp\")\n",
    "df.dtypes"
   ]
  },
  {
   "cell_type": "code",
   "execution_count": null,
   "metadata": {},
   "outputs": [],
   "source": [
    "fig = px.line(df[df[\"Timestamp\"] > dt.datetime.now() - dt.timedelta(days=2)], x=\"Timestamp\", y=\"Value\")\n",
    "fig.update_traces(mode=\"markers+lines\", hovertemplate=None)\n",
    "fig.update_layout(hovermode=\"x\")\n",
    "\n",
    "fig.show()"
   ]
  },
  {
   "cell_type": "code",
   "execution_count": null,
   "metadata": {},
   "outputs": [],
   "source": [
    "df[\"in_range\"] = df.Value.between(3.5, 8.5)\n",
    "df[\"in_range\"].count()"
   ]
  },
  {
   "cell_type": "code",
   "execution_count": null,
   "metadata": {},
   "outputs": [],
   "source": [
    "df[\"in_range\"].sum() / df[\"in_range\"].count() * 100"
   ]
  },
  {
   "cell_type": "code",
   "execution_count": null,
   "metadata": {},
   "outputs": [],
   "source": []
  }
 ],
 "metadata": {
  "kernelspec": {
   "display_name": ".venv",
   "language": "python",
   "name": "python3"
  },
  "language_info": {
   "codemirror_mode": {
    "name": "ipython",
    "version": 3
   },
   "file_extension": ".py",
   "mimetype": "text/x-python",
   "name": "python",
   "nbconvert_exporter": "python",
   "pygments_lexer": "ipython3",
   "version": "3.10.12"
  },
  "orig_nbformat": 4
 },
 "nbformat": 4,
 "nbformat_minor": 2
}
